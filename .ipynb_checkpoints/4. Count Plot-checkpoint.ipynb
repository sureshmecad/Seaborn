{
 "cells": [
  {
   "cell_type": "markdown",
   "metadata": {},
   "source": [
    "## Count Plot"
   ]
  },
  {
   "cell_type": "raw",
   "metadata": {},
   "source": [
    "#  Shows the counts of observations in each categorical bin using bars\n",
    "\n",
    "#  In count plot specifying either x (or) y and one axis will always be a count.\n",
    "\n",
    "#  In Bar plot need to specifiy x axis, y axis and dataset."
   ]
  },
  {
   "cell_type": "code",
   "execution_count": 1,
   "metadata": {},
   "outputs": [],
   "source": [
    "import seaborn as sns"
   ]
  },
  {
   "cell_type": "markdown",
   "metadata": {},
   "source": [
    "<h1 style=\"color:blue\" align=\"left\"> Dataset:\"tips\" </h1>"
   ]
  },
  {
   "cell_type": "code",
   "execution_count": 2,
   "metadata": {},
   "outputs": [
    {
     "data": {
      "text/html": [
       "<div>\n",
       "<style scoped>\n",
       "    .dataframe tbody tr th:only-of-type {\n",
       "        vertical-align: middle;\n",
       "    }\n",
       "\n",
       "    .dataframe tbody tr th {\n",
       "        vertical-align: top;\n",
       "    }\n",
       "\n",
       "    .dataframe thead th {\n",
       "        text-align: right;\n",
       "    }\n",
       "</style>\n",
       "<table border=\"1\" class=\"dataframe\">\n",
       "  <thead>\n",
       "    <tr style=\"text-align: right;\">\n",
       "      <th></th>\n",
       "      <th>total_bill</th>\n",
       "      <th>tip</th>\n",
       "      <th>sex</th>\n",
       "      <th>smoker</th>\n",
       "      <th>day</th>\n",
       "      <th>time</th>\n",
       "      <th>size</th>\n",
       "    </tr>\n",
       "  </thead>\n",
       "  <tbody>\n",
       "    <tr>\n",
       "      <th>0</th>\n",
       "      <td>16.99</td>\n",
       "      <td>1.01</td>\n",
       "      <td>Female</td>\n",
       "      <td>No</td>\n",
       "      <td>Sun</td>\n",
       "      <td>Dinner</td>\n",
       "      <td>2</td>\n",
       "    </tr>\n",
       "    <tr>\n",
       "      <th>1</th>\n",
       "      <td>10.34</td>\n",
       "      <td>1.66</td>\n",
       "      <td>Male</td>\n",
       "      <td>No</td>\n",
       "      <td>Sun</td>\n",
       "      <td>Dinner</td>\n",
       "      <td>3</td>\n",
       "    </tr>\n",
       "    <tr>\n",
       "      <th>2</th>\n",
       "      <td>21.01</td>\n",
       "      <td>3.50</td>\n",
       "      <td>Male</td>\n",
       "      <td>No</td>\n",
       "      <td>Sun</td>\n",
       "      <td>Dinner</td>\n",
       "      <td>3</td>\n",
       "    </tr>\n",
       "    <tr>\n",
       "      <th>3</th>\n",
       "      <td>23.68</td>\n",
       "      <td>3.31</td>\n",
       "      <td>Male</td>\n",
       "      <td>No</td>\n",
       "      <td>Sun</td>\n",
       "      <td>Dinner</td>\n",
       "      <td>2</td>\n",
       "    </tr>\n",
       "    <tr>\n",
       "      <th>4</th>\n",
       "      <td>24.59</td>\n",
       "      <td>3.61</td>\n",
       "      <td>Female</td>\n",
       "      <td>No</td>\n",
       "      <td>Sun</td>\n",
       "      <td>Dinner</td>\n",
       "      <td>4</td>\n",
       "    </tr>\n",
       "  </tbody>\n",
       "</table>\n",
       "</div>"
      ],
      "text/plain": [
       "   total_bill   tip     sex smoker  day    time  size\n",
       "0       16.99  1.01  Female     No  Sun  Dinner     2\n",
       "1       10.34  1.66    Male     No  Sun  Dinner     3\n",
       "2       21.01  3.50    Male     No  Sun  Dinner     3\n",
       "3       23.68  3.31    Male     No  Sun  Dinner     2\n",
       "4       24.59  3.61  Female     No  Sun  Dinner     4"
      ]
     },
     "execution_count": 2,
     "metadata": {},
     "output_type": "execute_result"
    }
   ],
   "source": [
    "df=sns.load_dataset(\"tips\")\n",
    "df.head()"
   ]
  },
  {
   "cell_type": "code",
   "execution_count": 3,
   "metadata": {},
   "outputs": [
    {
     "data": {
      "text/plain": [
       "<matplotlib.axes._subplots.AxesSubplot at 0x20c663540f0>"
      ]
     },
     "execution_count": 3,
     "metadata": {},
     "output_type": "execute_result"
    },
    {
     "data": {
      "image/png": "[encoded data removed]",
      "text/plain": [
       "<Figure size 432x288 with 1 Axes>"
      ]
     },
     "metadata": {
      "needs_background": "light"
     },
     "output_type": "display_data"
    }
   ],
   "source": [
    "sns.countplot('sex',data=df)"
   ]
  },
  {
   "cell_type": "code",
   "execution_count": 4,
   "metadata": {},
   "outputs": [
    {
     "data": {
      "text/plain": [
       "<matplotlib.axes._subplots.AxesSubplot at 0x20c66da2cf8>"
      ]
     },
     "execution_count": 4,
     "metadata": {},
     "output_type": "execute_result"
    },
    {
     "data": {
      "image/png": "[encoded data removed]",
      "text/plain": [
       "<Figure size 432x288 with 1 Axes>"
      ]
     },
     "metadata": {
      "needs_background": "light"
     },
     "output_type": "display_data"
    }
   ],
   "source": [
    "sns.countplot('smoker',data=df)"
   ]
  },
  {
   "cell_type": "code",
   "execution_count": 5,
   "metadata": {
    "scrolled": true
   },
   "outputs": [
    {
     "data": {
      "text/plain": [
       "<matplotlib.axes._subplots.AxesSubplot at 0x20c67ddf7b8>"
      ]
     },
     "execution_count": 5,
     "metadata": {},
     "output_type": "execute_result"
    },
    {
     "data": {
      "image/png": "[encoded data removed]",
      "text/plain": [
       "<Figure size 432x288 with 1 Axes>"
      ]
     },
     "metadata": {
      "needs_background": "light"
     },
     "output_type": "display_data"
    }
   ],
   "source": [
    "sns.countplot(y='sex',data=df)         # y='sex' means count will put in horizontal axis"
   ]
  },
  {
   "cell_type": "markdown",
   "metadata": {},
   "source": [
    "-------------------------------------------------------------------------------------------------------------------------------"
   ]
  },
  {
   "cell_type": "markdown",
   "metadata": {},
   "source": [
    "<h1 style=\"color:blue\" align=\"left\"> NYC 311 Customer Service </h1>"
   ]
  },
  {
   "cell_type": "code",
   "execution_count": 6,
   "metadata": {},
   "outputs": [],
   "source": [
    "import pandas as pd"
   ]
  },
  {
   "cell_type": "code",
   "execution_count": 9,
   "metadata": {},
   "outputs": [
    {
     "data": {
      "text/html": [
       "<div>\n",
       "<style scoped>\n",
       "    .dataframe tbody tr th:only-of-type {\n",
       "        vertical-align: middle;\n",
       "    }\n",
       "\n",
       "    .dataframe tbody tr th {\n",
       "        vertical-align: top;\n",
       "    }\n",
       "\n",
       "    .dataframe thead th {\n",
       "        text-align: right;\n",
       "    }\n",
       "</style>\n",
       "<table border=\"1\" class=\"dataframe\">\n",
       "  <thead>\n",
       "    <tr style=\"text-align: right;\">\n",
       "      <th></th>\n",
       "      <th>Unique Key</th>\n",
       "      <th>Created Date</th>\n",
       "      <th>Closed Date</th>\n",
       "      <th>Agency</th>\n",
       "      <th>Agency Name</th>\n",
       "      <th>Complaint Type</th>\n",
       "      <th>Descriptor</th>\n",
       "      <th>Location Type</th>\n",
       "      <th>Incident Zip</th>\n",
       "      <th>Incident Address</th>\n",
       "      <th>Street Name</th>\n",
       "      <th>Cross Street 1</th>\n",
       "      <th>Cross Street 2</th>\n",
       "      <th>Intersection Street 1</th>\n",
       "      <th>Intersection Street 2</th>\n",
       "      <th>Address Type</th>\n",
       "      <th>City</th>\n",
       "      <th>Landmark</th>\n",
       "      <th>Facility Type</th>\n",
       "      <th>Status</th>\n",
       "      <th>Due Date</th>\n",
       "      <th>Resolution Description</th>\n",
       "      <th>Resolution Action Updated Date</th>\n",
       "      <th>Community Board</th>\n",
       "      <th>Borough</th>\n",
       "      <th>X Coordinate (State Plane)</th>\n",
       "      <th>Y Coordinate (State Plane)</th>\n",
       "      <th>Park Facility Name</th>\n",
       "      <th>Park Borough</th>\n",
       "      <th>School Name</th>\n",
       "      <th>School Number</th>\n",
       "      <th>School Region</th>\n",
       "      <th>School Code</th>\n",
       "      <th>School Phone Number</th>\n",
       "      <th>School Address</th>\n",
       "      <th>School City</th>\n",
       "      <th>School State</th>\n",
       "      <th>School Zip</th>\n",
       "      <th>School Not Found</th>\n",
       "      <th>School or Citywide Complaint</th>\n",
       "      <th>Vehicle Type</th>\n",
       "      <th>Taxi Company Borough</th>\n",
       "      <th>Taxi Pick Up Location</th>\n",
       "      <th>Bridge Highway Name</th>\n",
       "      <th>Bridge Highway Direction</th>\n",
       "      <th>Road Ramp</th>\n",
       "      <th>Bridge Highway Segment</th>\n",
       "      <th>Garage Lot Name</th>\n",
       "      <th>Ferry Direction</th>\n",
       "      <th>Ferry Terminal Name</th>\n",
       "      <th>Latitude</th>\n",
       "      <th>Longitude</th>\n",
       "      <th>Location</th>\n",
       "    </tr>\n",
       "  </thead>\n",
       "  <tbody>\n",
       "    <tr>\n",
       "      <th>0</th>\n",
       "      <td>32310363</td>\n",
       "      <td>12/31/2015 11:59:45 PM</td>\n",
       "      <td>01/01/2016 12:55:15 AM</td>\n",
       "      <td>NYPD</td>\n",
       "      <td>New York City Police Department</td>\n",
       "      <td>Noise - Street/Sidewalk</td>\n",
       "      <td>Loud Music/Party</td>\n",
       "      <td>Street/Sidewalk</td>\n",
       "      <td>10034.0</td>\n",
       "      <td>71 VERMILYEA AVENUE</td>\n",
       "      <td>VERMILYEA AVENUE</td>\n",
       "      <td>ACADEMY STREET</td>\n",
       "      <td>WEST 204 STREET</td>\n",
       "      <td>NaN</td>\n",
       "      <td>NaN</td>\n",
       "      <td>ADDRESS</td>\n",
       "      <td>NEW YORK</td>\n",
       "      <td>NaN</td>\n",
       "      <td>Precinct</td>\n",
       "      <td>Closed</td>\n",
       "      <td>01/01/2016 07:59:45 AM</td>\n",
       "      <td>The Police Department responded and upon arriv...</td>\n",
       "      <td>01/01/2016 12:55:15 AM</td>\n",
       "      <td>12 MANHATTAN</td>\n",
       "      <td>MANHATTAN</td>\n",
       "      <td>1005409.0</td>\n",
       "      <td>254678.0</td>\n",
       "      <td>Unspecified</td>\n",
       "      <td>MANHATTAN</td>\n",
       "      <td>Unspecified</td>\n",
       "      <td>Unspecified</td>\n",
       "      <td>Unspecified</td>\n",
       "      <td>Unspecified</td>\n",
       "      <td>Unspecified</td>\n",
       "      <td>Unspecified</td>\n",
       "      <td>Unspecified</td>\n",
       "      <td>Unspecified</td>\n",
       "      <td>Unspecified</td>\n",
       "      <td>N</td>\n",
       "      <td>NaN</td>\n",
       "      <td>NaN</td>\n",
       "      <td>NaN</td>\n",
       "      <td>NaN</td>\n",
       "      <td>NaN</td>\n",
       "      <td>NaN</td>\n",
       "      <td>NaN</td>\n",
       "      <td>NaN</td>\n",
       "      <td>NaN</td>\n",
       "      <td>NaN</td>\n",
       "      <td>NaN</td>\n",
       "      <td>40.865682</td>\n",
       "      <td>-73.923501</td>\n",
       "      <td>(40.86568153633767, -73.92350095571744)</td>\n",
       "    </tr>\n",
       "    <tr>\n",
       "      <th>1</th>\n",
       "      <td>32309934</td>\n",
       "      <td>12/31/2015 11:59:44 PM</td>\n",
       "      <td>01/01/2016 01:26:57 AM</td>\n",
       "      <td>NYPD</td>\n",
       "      <td>New York City Police Department</td>\n",
       "      <td>Blocked Driveway</td>\n",
       "      <td>No Access</td>\n",
       "      <td>Street/Sidewalk</td>\n",
       "      <td>11105.0</td>\n",
       "      <td>27-07 23 AVENUE</td>\n",
       "      <td>23 AVENUE</td>\n",
       "      <td>27 STREET</td>\n",
       "      <td>28 STREET</td>\n",
       "      <td>NaN</td>\n",
       "      <td>NaN</td>\n",
       "      <td>ADDRESS</td>\n",
       "      <td>ASTORIA</td>\n",
       "      <td>NaN</td>\n",
       "      <td>Precinct</td>\n",
       "      <td>Closed</td>\n",
       "      <td>01/01/2016 07:59:44 AM</td>\n",
       "      <td>The Police Department responded to the complai...</td>\n",
       "      <td>01/01/2016 01:26:57 AM</td>\n",
       "      <td>01 QUEENS</td>\n",
       "      <td>QUEENS</td>\n",
       "      <td>1007766.0</td>\n",
       "      <td>221986.0</td>\n",
       "      <td>Unspecified</td>\n",
       "      <td>QUEENS</td>\n",
       "      <td>Unspecified</td>\n",
       "      <td>Unspecified</td>\n",
       "      <td>Unspecified</td>\n",
       "      <td>Unspecified</td>\n",
       "      <td>Unspecified</td>\n",
       "      <td>Unspecified</td>\n",
       "      <td>Unspecified</td>\n",
       "      <td>Unspecified</td>\n",
       "      <td>Unspecified</td>\n",
       "      <td>N</td>\n",
       "      <td>NaN</td>\n",
       "      <td>NaN</td>\n",
       "      <td>NaN</td>\n",
       "      <td>NaN</td>\n",
       "      <td>NaN</td>\n",
       "      <td>NaN</td>\n",
       "      <td>NaN</td>\n",
       "      <td>NaN</td>\n",
       "      <td>NaN</td>\n",
       "      <td>NaN</td>\n",
       "      <td>NaN</td>\n",
       "      <td>40.775945</td>\n",
       "      <td>-73.915094</td>\n",
       "      <td>(40.775945312321085, -73.91509393898605)</td>\n",
       "    </tr>\n",
       "    <tr>\n",
       "      <th>2</th>\n",
       "      <td>32309159</td>\n",
       "      <td>12/31/2015 11:59:29 PM</td>\n",
       "      <td>01/01/2016 04:51:03 AM</td>\n",
       "      <td>NYPD</td>\n",
       "      <td>New York City Police Department</td>\n",
       "      <td>Blocked Driveway</td>\n",
       "      <td>No Access</td>\n",
       "      <td>Street/Sidewalk</td>\n",
       "      <td>10458.0</td>\n",
       "      <td>2897 VALENTINE AVENUE</td>\n",
       "      <td>VALENTINE AVENUE</td>\n",
       "      <td>EAST 198 STREET</td>\n",
       "      <td>EAST 199 STREET</td>\n",
       "      <td>NaN</td>\n",
       "      <td>NaN</td>\n",
       "      <td>ADDRESS</td>\n",
       "      <td>BRONX</td>\n",
       "      <td>NaN</td>\n",
       "      <td>Precinct</td>\n",
       "      <td>Closed</td>\n",
       "      <td>01/01/2016 07:59:29 AM</td>\n",
       "      <td>The Police Department responded and upon arriv...</td>\n",
       "      <td>01/01/2016 04:51:03 AM</td>\n",
       "      <td>07 BRONX</td>\n",
       "      <td>BRONX</td>\n",
       "      <td>1015081.0</td>\n",
       "      <td>256380.0</td>\n",
       "      <td>Unspecified</td>\n",
       "      <td>BRONX</td>\n",
       "      <td>Unspecified</td>\n",
       "      <td>Unspecified</td>\n",
       "      <td>Unspecified</td>\n",
       "      <td>Unspecified</td>\n",
       "      <td>Unspecified</td>\n",
       "      <td>Unspecified</td>\n",
       "      <td>Unspecified</td>\n",
       "      <td>Unspecified</td>\n",
       "      <td>Unspecified</td>\n",
       "      <td>N</td>\n",
       "      <td>NaN</td>\n",
       "      <td>NaN</td>\n",
       "      <td>NaN</td>\n",
       "      <td>NaN</td>\n",
       "      <td>NaN</td>\n",
       "      <td>NaN</td>\n",
       "      <td>NaN</td>\n",
       "      <td>NaN</td>\n",
       "      <td>NaN</td>\n",
       "      <td>NaN</td>\n",
       "      <td>NaN</td>\n",
       "      <td>40.870325</td>\n",
       "      <td>-73.888525</td>\n",
       "      <td>(40.870324522111424, -73.88852464418646)</td>\n",
       "    </tr>\n",
       "  </tbody>\n",
       "</table>\n",
       "</div>"
      ],
      "text/plain": [
       "   Unique Key            Created Date             Closed Date Agency  \\\n",
       "0    32310363  12/31/2015 11:59:45 PM  01/01/2016 12:55:15 AM   NYPD   \n",
       "1    32309934  12/31/2015 11:59:44 PM  01/01/2016 01:26:57 AM   NYPD   \n",
       "2    32309159  12/31/2015 11:59:29 PM  01/01/2016 04:51:03 AM   NYPD   \n",
       "\n",
       "                       Agency Name           Complaint Type        Descriptor  \\\n",
       "0  New York City Police Department  Noise - Street/Sidewalk  Loud Music/Party   \n",
       "1  New York City Police Department         Blocked Driveway         No Access   \n",
       "2  New York City Police Department         Blocked Driveway         No Access   \n",
       "\n",
       "     Location Type  Incident Zip       Incident Address       Street Name  \\\n",
       "0  Street/Sidewalk       10034.0    71 VERMILYEA AVENUE  VERMILYEA AVENUE   \n",
       "1  Street/Sidewalk       11105.0        27-07 23 AVENUE         23 AVENUE   \n",
       "2  Street/Sidewalk       10458.0  2897 VALENTINE AVENUE  VALENTINE AVENUE   \n",
       "\n",
       "    Cross Street 1   Cross Street 2 Intersection Street 1  \\\n",
       "0   ACADEMY STREET  WEST 204 STREET                   NaN   \n",
       "1        27 STREET        28 STREET                   NaN   \n",
       "2  EAST 198 STREET  EAST 199 STREET                   NaN   \n",
       "\n",
       "  Intersection Street 2 Address Type      City Landmark Facility Type  Status  \\\n",
       "0                   NaN      ADDRESS  NEW YORK      NaN      Precinct  Closed   \n",
       "1                   NaN      ADDRESS   ASTORIA      NaN      Precinct  Closed   \n",
       "2                   NaN      ADDRESS     BRONX      NaN      Precinct  Closed   \n",
       "\n",
       "                 Due Date                             Resolution Description  \\\n",
       "0  01/01/2016 07:59:45 AM  The Police Department responded and upon arriv...   \n",
       "1  01/01/2016 07:59:44 AM  The Police Department responded to the complai...   \n",
       "2  01/01/2016 07:59:29 AM  The Police Department responded and upon arriv...   \n",
       "\n",
       "  Resolution Action Updated Date Community Board    Borough  \\\n",
       "0         01/01/2016 12:55:15 AM    12 MANHATTAN  MANHATTAN   \n",
       "1         01/01/2016 01:26:57 AM       01 QUEENS     QUEENS   \n",
       "2         01/01/2016 04:51:03 AM        07 BRONX      BRONX   \n",
       "\n",
       "   X Coordinate (State Plane)  Y Coordinate (State Plane) Park Facility Name  \\\n",
       "0                   1005409.0                    254678.0        Unspecified   \n",
       "1                   1007766.0                    221986.0        Unspecified   \n",
       "2                   1015081.0                    256380.0        Unspecified   \n",
       "\n",
       "  Park Borough  School Name School Number School Region  School Code  \\\n",
       "0    MANHATTAN  Unspecified   Unspecified   Unspecified  Unspecified   \n",
       "1       QUEENS  Unspecified   Unspecified   Unspecified  Unspecified   \n",
       "2        BRONX  Unspecified   Unspecified   Unspecified  Unspecified   \n",
       "\n",
       "  School Phone Number School Address  School City School State   School Zip  \\\n",
       "0         Unspecified    Unspecified  Unspecified  Unspecified  Unspecified   \n",
       "1         Unspecified    Unspecified  Unspecified  Unspecified  Unspecified   \n",
       "2         Unspecified    Unspecified  Unspecified  Unspecified  Unspecified   \n",
       "\n",
       "  School Not Found  School or Citywide Complaint  Vehicle Type  \\\n",
       "0                N                           NaN           NaN   \n",
       "1                N                           NaN           NaN   \n",
       "2                N                           NaN           NaN   \n",
       "\n",
       "   Taxi Company Borough  Taxi Pick Up Location Bridge Highway Name  \\\n",
       "0                   NaN                    NaN                 NaN   \n",
       "1                   NaN                    NaN                 NaN   \n",
       "2                   NaN                    NaN                 NaN   \n",
       "\n",
       "  Bridge Highway Direction Road Ramp Bridge Highway Segment  Garage Lot Name  \\\n",
       "0                      NaN       NaN                    NaN              NaN   \n",
       "1                      NaN       NaN                    NaN              NaN   \n",
       "2                      NaN       NaN                    NaN              NaN   \n",
       "\n",
       "  Ferry Direction Ferry Terminal Name   Latitude  Longitude  \\\n",
       "0             NaN                 NaN  40.865682 -73.923501   \n",
       "1             NaN                 NaN  40.775945 -73.915094   \n",
       "2             NaN                 NaN  40.870325 -73.888525   \n",
       "\n",
       "                                   Location  \n",
       "0   (40.86568153633767, -73.92350095571744)  \n",
       "1  (40.775945312321085, -73.91509393898605)  \n",
       "2  (40.870324522111424, -73.88852464418646)  "
      ]
     },
     "execution_count": 9,
     "metadata": {},
     "output_type": "execute_result"
    }
   ],
   "source": [
    "# url = 'C:/Users/deepusuresh/Documents/Data Science/01. Python/1. Project/1. Certificate_Project/2. Customer Service Requests Analysis'\n",
    "\n",
    "df = pd.read_csv(\"C:/Users/deepusuresh/Documents/Data Science/01. Python/1. Project/1. Certificate_Project/2. Customer Service Requests Analysis/311_Service_Requests_from_2010_to_Present.csv\")\n",
    "pd.options.display.max_columns = None\n",
    "df.head(3)"
   ]
  },
  {
   "cell_type": "code",
   "execution_count": 11,
   "metadata": {},
   "outputs": [
    {
     "data": {
      "image/png": "[encoded data removed]",
      "text/plain": [
       "<Figure size 432x288 with 1 Axes>"
      ]
     },
     "metadata": {
      "needs_background": "light"
     },
     "output_type": "display_data"
    }
   ],
   "source": [
    "plot = sns.countplot(df['Complaint Type'])"
   ]
  },
  {
   "cell_type": "code",
   "execution_count": 12,
   "metadata": {},
   "outputs": [
    {
     "data": {
      "text/plain": [
       "[Text(0, 0, 'Noise - Street/Sidewalk'),\n",
       " Text(0, 0, 'Blocked Driveway'),\n",
       " Text(0, 0, 'Illegal Parking'),\n",
       " Text(0, 0, 'Derelict Vehicle'),\n",
       " Text(0, 0, 'Noise - Commercial'),\n",
       " Text(0, 0, 'Noise - House of Worship'),\n",
       " Text(0, 0, 'Posting Advertisement'),\n",
       " Text(0, 0, 'Noise - Vehicle'),\n",
       " Text(0, 0, 'Animal Abuse'),\n",
       " Text(0, 0, 'Vending'),\n",
       " Text(0, 0, 'Traffic'),\n",
       " Text(0, 0, 'Drinking'),\n",
       " Text(0, 0, 'Bike/Roller/Skate Chronic'),\n",
       " Text(0, 0, 'Panhandling'),\n",
       " Text(0, 0, 'Noise - Park'),\n",
       " Text(0, 0, 'Homeless Encampment'),\n",
       " Text(0, 0, 'Urinating in Public'),\n",
       " Text(0, 0, 'Graffiti'),\n",
       " Text(0, 0, 'Disorderly Youth'),\n",
       " Text(0, 0, 'Illegal Fireworks'),\n",
       " Text(0, 0, 'Ferry Complaint'),\n",
       " Text(0, 0, 'Agency Issues'),\n",
       " Text(0, 0, 'Squeegee'),\n",
       " Text(0, 0, 'Animal in a Park')]"
      ]
     },
     "execution_count": 12,
     "metadata": {},
     "output_type": "execute_result"
    },
    {
     "data": {
      "image/png": "[encoded data removed]",
      "text/plain": [
       "<Figure size 432x288 with 1 Axes>"
      ]
     },
     "metadata": {
      "needs_background": "light"
     },
     "output_type": "display_data"
    }
   ],
   "source": [
    "plot = sns.countplot(df['Complaint Type'])\n",
    "plot.set_xticklabels(plot.get_xticklabels(),rotation=90)"
   ]
  }
 ],
 "metadata": {
  "kernelspec": {
   "display_name": "Python 3",
   "language": "python",
   "name": "python3"
  },
  "language_info": {
   "codemirror_mode": {
    "name": "ipython",
    "version": 3
   },
   "file_extension": ".py",
   "mimetype": "text/x-python",
   "name": "python",
   "nbconvert_exporter": "python",
   "pygments_lexer": "ipython3",
   "version": "3.7.3"
  }
 },
 "nbformat": 4,
 "nbformat_minor": 2
}
