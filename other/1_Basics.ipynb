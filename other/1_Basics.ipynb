{
 "cells": [
  {
   "cell_type": "raw",
   "metadata": {},
   "source": [
    "#  Datasets available in Seaborn:\n",
    "\n",
    "\n",
    "      1. planets\n",
    "      \n",
    "      2. titanic\n",
    "      \n",
    "      3. flights\n",
    "      \n",
    "      4. tips\n",
    "      \n",
    "      5. iris"
   ]
  },
  {
   "cell_type": "raw",
   "metadata": {},
   "source": [
    "#  plt.figure(figsize=(12,8))      ---->  width, height\n",
    "\n",
    "#  figsize : (float, float), optional, default: None\n",
    "    width, height in inches. If not provided, defaults to\n",
    "    :rc:`figure.figsize` = ``[6.4, 4.8]``."
   ]
  },
  {
   "cell_type": "markdown",
   "metadata": {},
   "source": [
    "### Seaborn Style"
   ]
  },
  {
   "cell_type": "raw",
   "metadata": {},
   "source": [
    "https://www.codecademy.com/articles/seaborn-design-i\n",
    "\n",
    "sns.set_style('dark')\n",
    "\n",
    "sns.set_style('whitegrid')"
   ]
  },
  {
   "cell_type": "raw",
   "metadata": {},
   "source": [
    "lmplot ---> linear model plot"
   ]
  },
  {
   "cell_type": "raw",
   "metadata": {},
   "source": [
    "sns.load_dataset(\"xxxxx\")"
   ]
  },
  {
   "cell_type": "raw",
   "metadata": {},
   "source": [
    "Seaborn Vs Matplotlib"
   ]
  },
  {
   "cell_type": "raw",
   "metadata": {},
   "source": [
    "Installing Dependencies :\n",
    "\n",
    "      - Numpy                                     \n",
    "      \n",
    "      - SciPy\n",
    "      \n",
    "      - Matplotlib                                \n",
    "      \n",
    "      - Pandas                                    \n",
    "      \n",
    "      - StatsModels (statistics in Python)\n",
    "      \n",
    "      \n",
    "                  import numpy as np\n",
    "                  \n",
    "                  import pandas as pd\n",
    "                  \n",
    "                  import matplotlib.pyplot as plt\n",
    "                  \n",
    "                  import seaborn as sns\n",
    "                  \n",
    "                  from scipy import stats"
   ]
  },
  {
   "cell_type": "raw",
   "metadata": {},
   "source": [
    "Seaborn Functions:\n",
    "\n",
    "    1. Visualizing Statistical Relationships\n",
    "    \n",
    "            - Process of understanding relationship between variables of dataset\n",
    "            \n",
    "    2. Plotting with Categorical data \n",
    "    \n",
    "            - Main variable is further divided into discrete groups\n",
    "            \n",
    "    3. Visualizing the distribution of a dataset\n",
    "    \n",
    "            - Understanding datasets with context to being Univariate (or) Bivariate"
   ]
  },
  {
   "cell_type": "raw",
   "metadata": {},
   "source": [
    "#  Strip plot is similar to Scatter plot. Strip plot produces 1d scatter plot of the given data where one variable is \n",
    "\n",
    "   categorical. This is usually used when the sample size is small.\n",
    "\n",
    "#  Scatter plot is a 2d data visualisation that uses dot to represent the value obtain for two variable.\n",
    "\n",
    "#  Heatmap is a 2d graphical representation of data where individual values that are contained in a matrix are represented \n",
    "\n",
    "   using colors.\n",
    "   \n",
    "#  Checking the correlation using heatmap. Correlation is a statistical technique that can show wheather and how strongly pairs \n",
    "\n",
    "   of variables related to each other.\n",
    "   \n",
    "#  Pair plot gives distribution b/n each column and it is plotted in scatter way"
   ]
  },
  {
   "cell_type": "code",
   "execution_count": null,
   "metadata": {},
   "outputs": [],
   "source": []
  }
 ],
 "metadata": {
  "kernelspec": {
   "display_name": "Python 3",
   "language": "python",
   "name": "python3"
  },
  "language_info": {
   "codemirror_mode": {
    "name": "ipython",
    "version": 3
   },
   "file_extension": ".py",
   "mimetype": "text/x-python",
   "name": "python",
   "nbconvert_exporter": "python",
   "pygments_lexer": "ipython3",
   "version": "3.7.3"
  }
 },
 "nbformat": 4,
 "nbformat_minor": 2
}
