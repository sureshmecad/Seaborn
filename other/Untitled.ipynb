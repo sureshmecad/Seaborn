{
 "cells": [
  {
   "cell_type": "raw",
   "metadata": {},
   "source": [
    "df.plot(kind='scatter',x='Height(Inches)', y='Weight(Pounds)');\n",
    "\n",
    "                      (or)\n",
    "    \n",
    "sns.scatterplot(df['Height(Inches)'], df['Weight(Pounds)'])"
   ]
  },
  {
   "cell_type": "code",
   "execution_count": null,
   "metadata": {},
   "outputs": [],
   "source": [
    "df.plot(figsize=(8,7), kind='scatter',x='Height',y='Weight');"
   ]
  },
  {
   "cell_type": "code",
   "execution_count": null,
   "metadata": {},
   "outputs": [],
   "source": [
    "fig,ax = plt.subplots()"
   ]
  },
  {
   "cell_type": "raw",
   "metadata": {},
   "source": [
    "# Scatter plot:\n",
    "\n",
    "males=df[df['Gender']=='Male']\n",
    "females=df[df['Gender']=='Female']\n",
    "fig,ax = plt.subplots()\n",
    "males.plot(kind='scatter', x='Height', y='Weight', ax=ax, color='blue',alpha=0.3, title='Male and Female Distribution')\n",
    "females.plot(kind='scatter',x='Height',y='Weight', ax=ax, color='red', alpha=0.3, title='Male and Female Populations');\n",
    "\n",
    "\n",
    "                                         (or)\n",
    "    \n",
    "    \n",
    "df['Genddercolor'] = df['Gender'].map({'Male':'blue','Female':'red'})\n",
    "df.plot(kind='scatter', x='Height', y='Weight', c=df['Genddercolor'], alpha=0.3, title='Male & Female Population');\n",
    "\n",
    "\n",
    "\n",
    "                                        (or)\n",
    "    \n",
    "# Matplotlib\n",
    "    \n",
    "fig,ax = plt.subplots()\n",
    "ax.plot(males['Height'],males['Weight'],'ob',females['Height'],females['Weight'],'or',alpha=0.3)\n",
    "plt.xlabel('Height')\n",
    "plt.ylabel('Weight')\n",
    "plt.title('Male & Female Populations');    "
   ]
  },
  {
   "cell_type": "raw",
   "metadata": {},
   "source": [
    "# Box Plot\n",
    "\n",
    "dfpvt=df.pivot(columns='Gender',values='Weight')\n",
    "dfpvt.head(2)"
   ]
  },
  {
   "cell_type": "raw",
   "metadata": {},
   "source": [
    "plt.figure(figsize=(7,6))\n",
    "df.Height.plot(kind=\"kde\", title='Univariate: Height KDE', color='c');\n",
    "\n",
    "df.plot.scatter(x=\"Height\", y=\"Weight\", color='c', title='Height Vs Weight');\n",
    "\n",
    "                                (or)\n",
    "                                \n",
    "# lets do same with matplotlib\n",
    "plt.scatter(x=df[\"Height\"], y=df[\"Weight\"], color='c')\n",
    "plt.title(\"Bivariate: Height Vs Weight Using Matplotplib\")\n",
    "plt.xlabel(\"Height\")\n",
    "plt.ylabel(\"Weight\")\n",
    "plt.plot(); # this means now plot the visualisation with all the settings."
   ]
  },
  {
   "cell_type": "code",
   "execution_count": null,
   "metadata": {},
   "outputs": [],
   "source": []
  }
 ],
 "metadata": {
  "kernelspec": {
   "display_name": "Python 3",
   "language": "python",
   "name": "python3"
  },
  "language_info": {
   "codemirror_mode": {
    "name": "ipython",
    "version": 3
   },
   "file_extension": ".py",
   "mimetype": "text/x-python",
   "name": "python",
   "nbconvert_exporter": "python",
   "pygments_lexer": "ipython3",
   "version": "3.7.3"
  }
 },
 "nbformat": 4,
 "nbformat_minor": 2
}
