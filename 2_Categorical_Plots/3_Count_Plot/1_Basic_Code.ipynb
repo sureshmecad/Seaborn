{
 "cells": [
  {
   "cell_type": "markdown",
   "metadata": {},
   "source": [
    "####  Shows the counts of observations in each categorical bin using bars\n",
    "\n",
    "####  In count plot specifying either x (or) y and one axis will always be a count.\n",
    "\n",
    "####  In Bar plot need to specifiy x axis, y axis and dataset."
   ]
  },
  {
   "cell_type": "raw",
   "metadata": {},
   "source": [
    "# Count Plot:\n",
    "\n",
    " ------------------------------------------------------------------------------------------------------------------------\n",
    "\n",
    "    sns.countplot('Class', data=df)                          #  Default count will put in Vertical axis\n",
    "    \n",
    " ------------------------------------------------------------------------------------------------------------------------\n",
    " \n",
    "    sns.countplot(x='Class', data=df)                        #  x ='Class' means count will put in Vertical axis\n",
    "    \n",
    "                   (or)\n",
    "                   \n",
    "    sns.countplot(x=df['Class'], data=df)\n",
    "    \n",
    "                   (or)\n",
    "    \n",
    "    sns.countplot(df['Class'], data=df)\n",
    "    \n",
    " ------------------------------------------------------------------------------------------------------------------------   \n",
    "      \n",
    "    sns.countplot(y ='Class', data=df)                       #  y ='Class' means count will put in horizontal axis\n",
    "      \n",
    " ------------------------------------------------------------------------------------------------------------------------   \n",
    "\n",
    "    sns.countplot(Service['Complaint Type'])                 #  Service  ----> Dataframe\n",
    "    \n",
    " ------------------------------------------------------------------------------------------------------------------------"
   ]
  }
 ],
 "metadata": {
  "kernelspec": {
   "display_name": "Python 3",
   "language": "python",
   "name": "python3"
  },
  "language_info": {
   "codemirror_mode": {
    "name": "ipython",
    "version": 3
   },
   "file_extension": ".py",
   "mimetype": "text/x-python",
   "name": "python",
   "nbconvert_exporter": "python",
   "pygments_lexer": "ipython3",
   "version": "3.7.3"
  }
 },
 "nbformat": 4,
 "nbformat_minor": 2
}
